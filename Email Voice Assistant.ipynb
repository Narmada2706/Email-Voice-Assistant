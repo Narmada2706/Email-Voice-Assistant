{
 "cells": [
  {
   "cell_type": "code",
   "execution_count": 1,
   "metadata": {},
   "outputs": [],
   "source": [
    "import speech_recognition as sr\n",
    "import yagmail"
   ]
  },
  {
   "cell_type": "code",
   "execution_count": 3,
   "metadata": {},
   "outputs": [
    {
     "name": "stdout",
     "output_type": "stream",
     "text": [
      "clearning background noise..\n",
      "waiting for your messege...\n",
      "Done Recording...!!\n",
      "Printing the messege..\n",
      "your messege:hello I am Narmada hope you are doing well thank you\n",
      "Password for <namuugale27@gmail.com>: ········\n",
      "Save username and password in keyring? [y/n]: n\n"
     ]
    }
   ],
   "source": [
    "recognizer = sr.Recognizer()\n",
    "with sr.Microphone() as source:\n",
    "    print(\"clearning background noise..\")\n",
    "    recognizer.adjust_for_ambient_noise(source,duration=1)\n",
    "    print(\"waiting for your messege...\")\n",
    "    recordedaudio=recognizer.listen(source)\n",
    "    print(\"Done Recording...!!\")\n",
    "    try:\n",
    "        print(\"Printing the messege..\")\n",
    "        text = recognizer.recognize_google(recordedaudio,language='en-us')\n",
    "        print(\"your messege:{}\".format(text))\n",
    "        \n",
    "    except Exception as ex:\n",
    "        print(ex)\n",
    "        \n",
    "    #Automate mails:\n",
    "    receiver = '2019bcs083@sggs.ac.in'\n",
    "    message=text\n",
    "    sender = yagmail.SMTP(\"namuugale27@gmail.com\")\n",
    "    sender.send(to=receiver,subject=\"This is an automated mail\",contents=message)"
   ]
  },
  {
   "cell_type": "code",
   "execution_count": null,
   "metadata": {},
   "outputs": [],
   "source": []
  }
 ],
 "metadata": {
  "kernelspec": {
   "display_name": "Python 3",
   "language": "python",
   "name": "python3"
  },
  "language_info": {
   "codemirror_mode": {
    "name": "ipython",
    "version": 3
   },
   "file_extension": ".py",
   "mimetype": "text/x-python",
   "name": "python",
   "nbconvert_exporter": "python",
   "pygments_lexer": "ipython3",
   "version": "3.8.5"
  }
 },
 "nbformat": 4,
 "nbformat_minor": 4
}
